{
 "cells": [
  {
   "cell_type": "markdown",
   "metadata": {},
   "source": [
    "# Modelling an FBG by generating a transmission spectrum"
   ]
  },
  {
   "cell_type": "code",
   "execution_count": null,
   "metadata": {},
   "outputs": [],
   "source": [
    "import numpy as np\n",
    "import matplotlib.pyplot as plt\n",
    "\n",
    "import os\n",
    "import sys\n",
    "sys.path.insert(0, os.path.abspath('../'))\n",
    "from fbg import *"
   ]
  },
  {
   "cell_type": "markdown",
   "metadata": {},
   "source": [
    "First you need to download a spectrum from NASA's PSG and convert it to a numpy array.\n",
    "\n",
    "See walkthrough here: https://sail-labs.github.io/FBG-Sensor/psg.html"
   ]
  },
  {
   "cell_type": "code",
   "execution_count": null,
   "metadata": {},
   "outputs": [],
   "source": [
    "filepath = 'spectra_files/psg_trn.txt'\n",
    "data = psg_to_numpy(filepath, verbose=False)"
   ]
  },
  {
   "cell_type": "code",
   "execution_count": null,
   "metadata": {},
   "outputs": [],
   "source": [
    "plt.figure(figsize=(5,4))\n",
    "plt.plot(data[:, 0], data[:,1], color='black', linewidth=0.5)\n",
    "plt.xlabel('Wavelength')\n",
    "plt.ylabel('Fractional transmittence')\n",
    "plt.title('Transmission Spectrum for CH4')\n",
    "plt.show()"
   ]
  },
  {
   "cell_type": "markdown",
   "metadata": {},
   "source": [
    "For this little demo, we're going to work with a subset of this data to make the visualisations clearer."
   ]
  },
  {
   "cell_type": "code",
   "execution_count": null,
   "metadata": {},
   "outputs": [],
   "source": [
    "subset = data[9000:9500]\n",
    "\n",
    "plt.figure(figsize=(5,4))\n",
    "plt.plot(subset[:, 0], subset[:,1], color='black', linewidth=0.5)\n",
    "plt.xlabel('Wavelength')\n",
    "plt.ylabel('Fractional transmittence')\n",
    "plt.title('Transmission Spectrum for CH4')\n",
    "plt.show()"
   ]
  },
  {
   "cell_type": "markdown",
   "metadata": {},
   "source": [
    "## Locating peaks\n",
    "\n",
    "Next, we'll locate the downard peaks by specifying a threshold. Peaks will only register if the drop below the specify threshold."
   ]
  },
  {
   "cell_type": "code",
   "execution_count": null,
   "metadata": {},
   "outputs": [],
   "source": [
    "peaks = locate_peaks(subset[:, 1], threshold=0.99)\n",
    "\n",
    "plt.figure(figsize=(5,4))\n",
    "plt.plot(subset[:, 0], subset[:,1], color='black', linewidth=0.5)\n",
    "plt.scatter(subset[peaks, 0], subset[peaks, 1], color='red', s=5)\n",
    "plt.hlines(0.99, subset[:, 0].min(), subset[:, 0].max(), alpha=0.5, label='threshold')\n",
    "plt.xlabel('Wavelength')\n",
    "plt.ylabel('Fractional transmittence')\n",
    "plt.title('Transmission Spectrum for CH4')\n",
    "plt.legend()\n",
    "plt.show()"
   ]
  },
  {
   "cell_type": "markdown",
   "metadata": {},
   "source": [
    "## Modelling the spectrum\n",
    "\n",
    "We can choose to either model the peaks with Gaussian or Lorentzian functions.\n",
    "\n",
    "* `n` controls the number of samples you take so you are not limited by the sampling of the original dataset\n",
    "\n",
    "* `sigma` controls the widths of the peaks"
   ]
  },
  {
   "cell_type": "code",
   "execution_count": null,
   "metadata": {},
   "outputs": [],
   "source": [
    "wavelength_gauss, trans_gauss = generate_spectrum(subset, peaks, n=2000, sigma=1e-5, type='Gaussian')\n",
    "wavelength_lortz, trans_lortz = generate_spectrum(subset, peaks, n=2000, sigma=1e-5, type='Lorentzian')\n",
    "\n",
    "plt.figure(figsize=(7,4))\n",
    "plt.plot(subset[:, 0], subset[:,1], color='black', linewidth=0.5, label='Original transmission spectrum')\n",
    "plt.scatter(subset[peaks, 0], subset[peaks, 1], color='red', s=5)\n",
    "plt.plot(wavelength_gauss, trans_gauss, color='orange', alpha=0.8, label='Gaussian model')\n",
    "plt.plot(wavelength_gauss, trans_gauss, color='blue', linestyle='dashed', linewidth=1, alpha=0.5, label='Lorentzian model')\n",
    "plt.xlabel('Wavelength')\n",
    "plt.ylabel('Fractional transmittence')\n",
    "plt.title('Transmission Spectrum for CH4')\n",
    "plt.legend()\n",
    "plt.show()"
   ]
  }
 ],
 "metadata": {
  "kernelspec": {
   "display_name": "Python 3",
   "language": "python",
   "name": "python3"
  },
  "language_info": {
   "codemirror_mode": {
    "name": "ipython",
    "version": 3
   },
   "file_extension": ".py",
   "mimetype": "text/x-python",
   "name": "python",
   "nbconvert_exporter": "python",
   "pygments_lexer": "ipython3",
   "version": "3.9.6"
  }
 },
 "nbformat": 4,
 "nbformat_minor": 2
}
