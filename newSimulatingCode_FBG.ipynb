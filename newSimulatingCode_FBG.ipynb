{
 "cells": [
  {
   "cell_type": "markdown",
   "metadata": {},
   "source": [
    "Code to simulate Fibre Bragg Grating  \n",
    "Written by: Samhita S Sodhi\n",
    "\n",
    "This notebook contains code which loads spectral data of a particular gas and simulates Fibre Bragg Grating stretching/strain. The python script file \"func.py\" comprise of most of the functions that this notebook uses. \n",
    "\n",
    "Currently using Nicholas' data from SAIL labs to test and write the functions. \n",
    "\n",
    "Notes from the author:\n",
    "- Nicholas' acetylene data does not appear to be the same as the spectra produced by NASA PSG https://psg.gsfc.nasa.gov/\n",
    "- Code is written such that all the data files need to be loaded in, eg. gas and fibre bragg grating \n",
    "- Code has been checked to work with NASA PSG data files and Nicholas' SAIL lab files -- may need to edit if data format is changed \n",
    "- Formula for Gaussian used: amp*1/(sigma*np.sqrt(2*np.pi))*np.exp(-(x - mu)^2/(2*sigma^2)) source: https://www.geeksforgeeks.org/python-gaussian-fit/ , https://www.tutorialspoint.com/gaussian-fit-using-python, https://stackoverflow.com/questions/19206332/gaussian-fit-for-python\n",
    "- Formula for Lorentzian used: (amp/np.pi) * (sigma/((x-mu)^2 + sigma^2)) source: https://lmfit.github.io/lmfit-py/builtin_models.html, https://scipython.com/book/chapter-8-scipy/examples/the-voigt-profile/\n",
    "- The functions include: \n",
    "    - input_spectra: loads in the data, \n",
    "    - plot_spectra: simple plot of the data, \n",
    "    - fit_curves: fits a gaussian/lorentzian model to the datapoints, \n",
    "    - blackbodyabsorption: imprints a theoretical blackbody spectrum to data, \n",
    "    - apply_strain: simulates the stretching of fbg, \n",
    "    - plot_strainspectra: plots the output of simulate strain as a visualisation\n",
    "    - correlation: for several values of strain plots the amount of light transmitted/reflected\n",
    "    - convert_fluxunits_to_photoncounts: converts default flux units (erg / cm2 Hz s sr) to (photons/sec)\n",
    "\n",
    "Issues\n",
    "- Need to find appropriate lineshapes as lorentzian/gaussian don't fit data (example in scratch_SimulatingCode_FBG) -- try voigt with equation from HITRAN https://hitran.org/docs/definitions-and-units/,  https://docs.scipy.org/doc/scipy/reference/generated/scipy.special.voigt_profile.html. Three methods of doing Voigt fitting - either convolve a Gaussian and Lorentzian, find a Voigt function online or write an equation http://emilygraceripka.com/blog/16\n",
    "- The function which fits a Gaussian or Lorentzian to each peak uses a hardcoded \"width value\" which appears to work for the data I have worked with but may need to be looked into, there is a variable which contains the widths for each peak but does not appear to work\n",
    "- Blackbody function converts the units into Angstroms because I was unsure about the units that astropy BlackBody requires as an input\n",
    "- It appears Nicholas wants to convert the default astropy.BlackBody outputs using the scale he provided {bb = BlackBody(temperature=temp*u.K, scale=1.0 * u.J / (u.cm ** 2 * u.nm * u.s * u.sr))} but I believe this is an incorrect approach since the function requires the scale to be equal to (erg / cm2 Hz s sr) which (J / cm2 nm s sr) isn't, so I stick to the default units the package uses (erg / cm2 Hz s sr).\n",
    "- Function that simulates the straining of the fibre bragg grating carried a bug which showed overfitting at the boundary (particularly for shorter wavelengths), this is likely due to extrapolation overfitting values at the boundary since it only had data from one side, this was corrected using bound_error = 'false' https://docs.scipy.org/doc/scipy/tutorial/interpolate/extrapolation_examples.html, https://docs.scipy.org/doc/scipy/reference/generated/scipy.interpolate.interp1d.html\n",
    "- Theoretical modelling only uses blackbody -- improve by adding model for sunlight, whitelight, laser \n",
    "- The function used to simulate the straining of the fibre 'apply_strain', is still in this notebook since it depends on some of the previous variables, perhaps can be removed in the future. \n",
    "- The function which converts (erg / cm2 Hz s sr) to photon counts requires the wavelength and the transmitted values to have the same length but this causes the function 'correlation' to take a little longer than 1 hour to run which is not ideal and this will need to be looked into.\n",
    "- When adding photon noise perhaps try Poisson noise rather than Gaussian noise as was used in Nicholas' code"
   ]
  },
  {
   "cell_type": "code",
   "execution_count": null,
   "metadata": {},
   "outputs": [],
   "source": [
    "import sys\n",
    "sys.path.insert(0, \".\")\n",
    "\n",
    "import pandas as pd\n",
    "import matplotlib.pyplot as plt\n",
    "from matplotlib.pyplot import figure\n",
    "import numpy as np\n",
    "from astropy import units as u\n",
    "from astropy import constants as const\n",
    "from astropy.modeling.models import BlackBody\n",
    "from scipy.signal import find_peaks\n",
    "from scipy.interpolate import interp1d\n",
    "from funcs import *"
   ]
  },
  {
   "cell_type": "markdown",
   "metadata": {},
   "source": [
    "**Preparing the input spectral data**"
   ]
  },
  {
   "cell_type": "code",
   "execution_count": null,
   "metadata": {},
   "outputs": [],
   "source": [
    "spectra_wav, spectra_data = input_spectra('/home/samhitasodhi/Gas Sensor Project/Code - Nicholas Morley/fbg_prog/fbg_prog/Line_Lists/C2H2 gas cell-_40nm_1_T_C33-c2h2200C3M_42nm_0_T.txt', 0, 2, \"\\t\", None, \"nm\", \"dB\")"
   ]
  },
  {
   "cell_type": "code",
   "execution_count": null,
   "metadata": {},
   "outputs": [],
   "source": [
    "plot_spectra(spectra_wav, spectra_data)"
   ]
  },
  {
   "cell_type": "code",
   "execution_count": null,
   "metadata": {},
   "outputs": [],
   "source": [
    "transmittance = fit_curves(spectra_wav, spectra_data, 0.09, 'lorentzian')"
   ]
  },
  {
   "cell_type": "code",
   "execution_count": null,
   "metadata": {},
   "outputs": [],
   "source": [
    "flux, transmitted_intensity = blackbodyabsorption(spectra_wav, transmittance, 3000)\n",
    "plot_spectra(spectra_wav, transmitted_intensity, yaxislabel = 'Transmitted Intensity (erg / cm2 Hz s sr)')"
   ]
  },
  {
   "cell_type": "markdown",
   "metadata": {},
   "source": [
    "**Loading fibre bragg grating data**"
   ]
  },
  {
   "cell_type": "code",
   "execution_count": null,
   "metadata": {},
   "outputs": [],
   "source": [
    "fibre_wavelength, fibregrating_line_data = input_spectra('/home/samhitasodhi/Gas Sensor Project/Code - Nicholas Morley/fbg_prog/fbg_prog/Line_Lists/FBG_C33-c2h2200C3M_42nm_0_T.txt', 0, 2, '\\t', None, \"nm\", \"dB\")"
   ]
  },
  {
   "cell_type": "code",
   "execution_count": null,
   "metadata": {},
   "outputs": [],
   "source": [
    "plot_spectra(fibre_wavelength, fibregrating_line_data)"
   ]
  },
  {
   "cell_type": "code",
   "execution_count": null,
   "metadata": {},
   "outputs": [],
   "source": [
    "transmittanceFBG = fit_curves(fibre_wavelength, fibregrating_line_data, 0.09, 'lorentzian')"
   ]
  },
  {
   "cell_type": "code",
   "execution_count": null,
   "metadata": {},
   "outputs": [],
   "source": [
    "fluxFBG, transmitted_intensityFBG = blackbodyabsorption(fibre_wavelength, transmittanceFBG, 3000)\n",
    "plot_spectra(spectra_wav, transmitted_intensityFBG, title = 'Transmittance spectrum of acetylene fbg data', yaxislabel = 'Transmitted Intensity (erg / cm2 Hz s sr)')"
   ]
  },
  {
   "cell_type": "markdown",
   "metadata": {},
   "source": [
    "**Simulating stretching of the fibre bragg grating**"
   ]
  },
  {
   "cell_type": "code",
   "execution_count": null,
   "metadata": {},
   "outputs": [],
   "source": [
    "def apply_strain(strain, temp_change, thermal_exp_coeff, thermo_optic_coeff, strain_optic_coeff):\n",
    "    \"\"\"\n",
    "    This function takes an input of a strain value and properties of the fibre bragg grating from which it \n",
    "    simulates the straining of the fibre bragg grating. \n",
    "\n",
    "    Parameters include:   \n",
    "    - strain              : input a single strain value to stretch the fibre bragg grating given in micro-strain values i.e., XXe-6\n",
    "    - temp_change         : change in temperature in degrees Celsius; 0 for constant temperature\n",
    "    - thermal_exp_coeff   : thermal expansion coefficient for material of the fibre bragg grating per degree Celsius \n",
    "    - thermo_optic_coeff  : thermo-optic coefficient for material of the fibre bragg grating per degree Celsius\n",
    "    - strain_optic_coeff  : effective strain-optic coefficient of the fibre \n",
    "\n",
    "    Equation used to simulate wavelength change: wav_shift = (1 - pe)*strain + (alpha + nu)*t_shift \n",
    "      (assumes stretching of the grating due to strain and temperature).\n",
    "    \"\"\"   \n",
    "\n",
    "    t_shift = temp_change \n",
    "    alpha = thermal_exp_coeff\n",
    "    nu = thermo_optic_coeff \n",
    "    pe = strain_optic_coeff \n",
    "    fillvalue = max(transmitted_intensity).value #chooses the max value rather than the boundary values because max_values are typically the boundary values\n",
    "\n",
    "    wav_shift = (1 - pe)*strain + (alpha + nu)*t_shift\n",
    "    fibre_wavelength_new = spectra_wav + wav_shift*spectra_wav #creates new wavelengths for which there is no existing data \n",
    "    #fillvalue = 5.075295546167134e-06\n",
    "    f1 = interp1d(fibre_wavelength_new, transmitted_intensityFBG, bounds_error = False, fill_value = fillvalue) #bounds_error = False -> interp1d sets the out-of-range values with the fill_value, which is nan by default / here fitted to the max value\n",
    "    interpolatedvals = f1(fibre_wavelength)\n",
    "\n",
    "    return fibre_wavelength_new, interpolatedvals"
   ]
  },
  {
   "cell_type": "code",
   "execution_count": null,
   "metadata": {},
   "outputs": [],
   "source": [
    "def plot_strainspectra(xlimits = None, ylimits = None):\n",
    "    \"\"\"\n",
    "    This function plots the spectra once the strain has been applied to the fibre bragg grating. \n",
    "    \n",
    "    Parameters include: \n",
    "      - xlimits  : user has a choice to input a range of x values (wavelength) i.e.,  [ , ] for the plot else default is complete range of values \n",
    "      - ylimits  : user has a choice to input a range of y values (Transmitted Intensity) i.e.,  [ , ] for the plot else default is complete range of values\n",
    "    \"\"\"\n",
    "    # Plotting different curves \n",
    "    if xlimits is not None or ylimits is not None: \n",
    "      # Plot with custom limits\n",
    "      figure(figsize=(15, 4))\n",
    "      plt.plot(spectra_wav, transmitted_intensity, c = 'navy', label = 'Original gas spectra')\n",
    "      plt.plot(fibre_wavelength, transmitted_intensityFBG, c = 'powderblue', label = 'Original FBG spectra')\n",
    "      plt.plot(fibre_wavelength_new, interpolatedvals, c = 'red', label = 'Strained FBG spectra')\n",
    "      plt.xlim(xlimits)\n",
    "      plt.ylim(ylimits)\n",
    "      plt.legend(loc = 'lower right')\n",
    "      plt.title('Straining the Fiber Bragg Grating')\n",
    "      plt.xlabel('Wavelength (um)')\n",
    "      plt.ylabel('Transmitted Intensity (erg / cm2 Hz s sr)')\n",
    "      plt.show()\n",
    "      \n",
    "    else: \n",
    "      # Plot without custom limits\n",
    "      figure(figsize=(15, 4))\n",
    "      plt.plot(spectra_wav, transmitted_intensity, c = 'navy', label = 'Original gas spectra')\n",
    "      plt.plot(fibre_wavelength, transmitted_intensityFBG, c = 'powderblue', label = 'Original FBG spectra')\n",
    "      plt.plot(fibre_wavelength_new, interpolatedvals, c = 'red', label = 'Strained FBG spectra')\n",
    "      plt.legend(loc = 'lower right')\n",
    "      plt.title('Straining the Fiber Bragg Grating')\n",
    "      plt.xlabel('Wavelength (um)')\n",
    "      plt.ylabel('Transmitted Intensity (erg / cm2 Hz s sr)')\n",
    "      plt.show()\n",
    "    \n",
    "    return"
   ]
  },
  {
   "cell_type": "code",
   "execution_count": null,
   "metadata": {},
   "outputs": [],
   "source": [
    "#testing the straining function; works well shows that no only is the fibre bragg grating being stretched but distances between the peaks are also changing\n",
    "\n",
    "fibre_wavelength_new, interpolatedvals = apply_strain(0.0005, 0, 0.55e-6, 8.6e-6, 0.22) #values for silica, no temperature change"
   ]
  },
  {
   "cell_type": "code",
   "execution_count": null,
   "metadata": {},
   "outputs": [],
   "source": [
    "plot_strainspectra()"
   ]
  },
  {
   "cell_type": "code",
   "execution_count": null,
   "metadata": {},
   "outputs": [],
   "source": [
    "def correlation(strainvalues, normalisation = 'True'):\n",
    "    \"\"\"\n",
    "    For different input values of strain this function plots the amount of total, transmitted and reflected light once incident light\n",
    "    passes through the fibre bragg grating.\n",
    "\n",
    "    Parameters include: \n",
    "    - strainvalues  : user inputs values of strain i.e., strain = np.linspace(0, 0.0014, 500) for which the stretching of the fibre bragg \n",
    "                      grating is simulated\n",
    "    - normalisation : user can choose whether to normalise the calculations to see the outputs as a fraction rather than true values else \n",
    "                      default is 'True'. \n",
    "    \"\"\"\n",
    "\n",
    "    reflectedvals = []\n",
    "    transmittedvals = []\n",
    "    totallightvals = []\n",
    "    strain = strainvalues\n",
    "    fillvalue = max(transmitted_intensity).value  \n",
    "\n",
    "    for i in strain:\n",
    "        fibre_wavelength_new, interpolatedvals = apply_strain(i, 0, 0.55e-6, 8.6e-6, 0.22) # values for silica, no temperature change\n",
    "        totallight = fillvalue*np.ones(len(interpolatedvals*spectra_data)) # calculates the total amount of light going through the system\n",
    "        reflected = (totallight - interpolatedvals*spectra_data).sum() # reflected light = total - transmitted\n",
    "        transmitted = np.array(interpolatedvals*spectra_data).sum() # transmitted light\n",
    "        \n",
    "        sumtotal_light = totallight.sum()\n",
    "\n",
    "        if normalisation == 'True':\n",
    "            normalise_transmitted = transmitted / sumtotal_light #normalises transmitted light\n",
    "            normalise_reflected = reflected / sumtotal_light #normalises reflected light\n",
    "            \n",
    "            transmittedvals.append(normalise_transmitted)\n",
    "            reflectedvals.append(normalise_reflected)\n",
    "            totallightvals.append(normalise_transmitted + normalise_reflected)\n",
    "            \n",
    "        elif normalisation == 'False':\n",
    "            transmittedvals.append(transmitted)\n",
    "            reflectedvals.append(reflected)\n",
    "            totallightvals.append(transmitted+reflected) \n",
    "            \n",
    "        else: \n",
    "            print(\"Please type either 'True' or 'False'\")\n",
    "\n",
    "    if normalisation == 'True':\n",
    "        figure(figsize=(15, 4))\n",
    "        plt.plot(strain, transmittedvals)\n",
    "        plt.title('Transmitted light')\n",
    "        plt.xlabel('Strain')\n",
    "        plt.ylabel('Light Transmitted as a fraction of the total light')\n",
    "        plt.show()\n",
    "\n",
    "        figure(figsize=(15, 4))\n",
    "        plt.plot(strain, reflectedvals)\n",
    "        plt.title('Reflected light')\n",
    "        plt.xlabel('Strain')\n",
    "        plt.ylabel('Light Reflected as a fraction of the total light')\n",
    "        plt.show()  \n",
    "        \n",
    "        figure(figsize=(15, 4))\n",
    "        plt.plot(strain, totallightvals)\n",
    "        plt.title('Total light')\n",
    "        plt.xlabel('Strain')\n",
    "        plt.ylabel('Total Light')\n",
    "        plt.show()\n",
    "\n",
    "    elif normalisation == 'False':\n",
    "        figure(figsize=(15, 4))\n",
    "        plt.plot(strain, transmittedvals)\n",
    "        plt.title('Transmitted light')\n",
    "        plt.xlabel('Strain')\n",
    "        plt.ylabel('Light Transmitted (erg / cm2 Hz s sr)')\n",
    "        plt.show()\n",
    "\n",
    "        figure(figsize=(15, 4))\n",
    "        plt.plot(strain, reflectedvals)\n",
    "        plt.title('Reflected light')\n",
    "        plt.xlabel('Strain')\n",
    "        plt.ylabel('Light Reflected (erg / cm2 Hz s sr)')\n",
    "        plt.show()  \n",
    "        \n",
    "        figure(figsize=(15, 4))\n",
    "        plt.plot(strain, totallightvals)\n",
    "        plt.title('Total light')\n",
    "        plt.xlabel('Strain')\n",
    "        plt.ylabel('Total Light (erg / cm2 Hz s sr)')\n",
    "        plt.show()\n",
    "\n",
    "    return transmittedvals, reflectedvals"
   ]
  },
  {
   "cell_type": "code",
   "execution_count": null,
   "metadata": {},
   "outputs": [],
   "source": [
    "strain = np.linspace(0, 0.0016, 16363) # takes a long time to run, else conversion to photoncounts does not work - wav, data different sizes! \n",
    "transmittedlight, reflectedlight = correlation(strain, 'False')\n",
    "\n",
    "totallight = np.array(transmittedlight) + np.array(reflectedlight)\n",
    "print(totallight[0])\n",
    "\n",
    "# strain = np.linspace(0, 0.0016, 500) \n",
    "# transmittedlightNorm, reflectedlightNorm = correlation(strain, 'True')"
   ]
  },
  {
   "cell_type": "markdown",
   "metadata": {},
   "source": [
    "**Converting units to photon counts**"
   ]
  },
  {
   "cell_type": "code",
   "execution_count": null,
   "metadata": {},
   "outputs": [],
   "source": [
    "#testing unit conversion function\n",
    "photoncount_persec = convert_fluxunits_to_photoncounts(spectra_wav, transmittedlight, 0.35, 0.000000503, 0.045)\n",
    "photoncount_persec = convert_fluxunits_to_photoncounts(spectra_wav, reflectedlight, 0.35, 0.000000503, 0.045)"
   ]
  }
 ],
 "metadata": {
  "kernelspec": {
   "display_name": "base",
   "language": "python",
   "name": "python3"
  },
  "language_info": {
   "codemirror_mode": {
    "name": "ipython",
    "version": 3
   },
   "file_extension": ".py",
   "mimetype": "text/x-python",
   "name": "python",
   "nbconvert_exporter": "python",
   "pygments_lexer": "ipython3",
   "version": "3.11.5"
  }
 },
 "nbformat": 4,
 "nbformat_minor": 2
}
